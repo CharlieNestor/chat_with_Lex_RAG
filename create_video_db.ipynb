{
 "cells": [
  {
   "cell_type": "markdown",
   "metadata": {},
   "source": [
    "# CREATING LEX VIDEOS DATABASE"
   ]
  },
  {
   "cell_type": "markdown",
   "metadata": {},
   "source": [
    "In this notebook, we will show how to create a database from a JSON file containing information about each video on the LexFridman YouTube channel.\n",
    "The JSON file is available in the data folder of this repository.\n",
    "In the code below, we show how to insert those video data into a MongoDB collection."
   ]
  },
  {
   "cell_type": "code",
   "execution_count": 1,
   "metadata": {},
   "outputs": [],
   "source": [
    "import json\n",
    "import random\n",
    "import mongo_utils as mu"
   ]
  },
  {
   "cell_type": "markdown",
   "metadata": {},
   "source": [
    "### MONGODB CONNECTION"
   ]
  },
  {
   "cell_type": "markdown",
   "metadata": {},
   "source": [
    "First, let's connect to the MongoDB client. We are going to use functions from the `mongo_utils.py` file."
   ]
  },
  {
   "cell_type": "code",
   "execution_count": 2,
   "metadata": {},
   "outputs": [],
   "source": [
    "client = mu.connect_to_mongodb()"
   ]
  },
  {
   "cell_type": "code",
   "execution_count": 3,
   "metadata": {},
   "outputs": [
    {
     "data": {
      "text/plain": [
       "True"
      ]
     },
     "execution_count": 3,
     "metadata": {},
     "output_type": "execute_result"
    }
   ],
   "source": [
    "mu.check_connection(client)"
   ]
  },
  {
   "cell_type": "markdown",
   "metadata": {},
   "source": [
    "### LOADING DATA FROM JSON"
   ]
  },
  {
   "cell_type": "markdown",
   "metadata": {},
   "source": [
    "Let's load the JSON file and print some information about the data."
   ]
  },
  {
   "cell_type": "markdown",
   "metadata": {},
   "source": [
    "If you are wondering how to get a JSON file like this, you can check the https://github.com/CharlieNestor/retrieve_video_info_YouTube_channel repository in my personal GitHub page. It contains a project whose goal is to download the videos information from a YouTube channel and store them either in JSON file or in a MongoDB collection."
   ]
  },
  {
   "cell_type": "code",
   "execution_count": 4,
   "metadata": {},
   "outputs": [
    {
     "name": "stdout",
     "output_type": "stream",
     "text": [
      "Type of data: <class 'dict'>\n",
      "Number of videos: 806\n",
      "Fields of each video: dict_keys(['description', 'duration', 'published_at', 'tags', 'timestamps', 'title', 'video_id'])\n",
      "Sample of video: \n",
      "{'description': \"Jo Boaler is a professor of mathematics education at Stanford and the co-founder of youcubed. Please support this podcast by checking out our sponsors:\\n- Truebill: https://truebill.com/lex\\n- Fundrise: https://fundrise.com/lex\\n- ExpressVPN: https://expressvpn.com/lexpod and use code LexPod to get 3 months free\\n- Indeed: https://indeed.com/lex to get $75 credit\\n- Stamps.com: https://stamps.com and use code LEX to get free postage & scale\\n\\nEPISODE LINKS:\\nJo's Twitter: https://twitter.com/joboaler\\nyoucubed: https://www.youcubed.org/\\nJo's Books: https://amzn.to/2Y3S2xW\\nElastic by Leonard Mlodinow: https://amz.run/4tCk\\nDeep Work by Cal Newport: https://amz.run/4tCl\\n3Blue1Brown: https://www.youtube.com/channel/UCYO_jab_esuFRV4b17AJtAw\\nManim: https://github.com/3b1b/manim\\n\\nPODCAST INFO:\\nPodcast website: https://lexfridman.com/podcast\\nApple Podcasts: https://apple.co/2lwqZIr\\nSpotify: https://spoti.fi/2nEwCF8\\nRSS: https://lexfridman.com/feed/podcast/\\nFull episodes playlist: https://www.youtube.com/playlist?list=PLrAXtmErZgOdP_8GztsuKi9nrraNbKKp4\\nClips playlist: https://www.youtube.com/playlist?list=PLrAXtmErZgOeciFP3CBCIEElOJeitOr41\\n\\nOUTLINE:\\n0:00 - Introduction\\n0:23 - What is beautiful about mathematics?\\n9:12 - How difficult should math really be?\\n17:31 - Students giving up on math\\n28:52 - Improving math education in schools\\n38:49 - Inspiring mathematical creativity\\n56:35 - youcubed\\n1:00:55 - Best methods for studying math\\n1:21:29 - Advice for young people\\n\\nSOCIAL:\\n- Twitter: https://twitter.com/lexfridman\\n- LinkedIn: https://www.linkedin.com/in/lexfridman\\n- Facebook: https://www.facebook.com/lexfridman\\n- Instagram: https://www.instagram.com/lexfridman\\n- Medium: https://medium.com/@lexfridman\\n- Reddit: https://reddit.com/r/lexfridman\\n- Support on Patreon: https://www.patreon.com/lexfridman\", 'duration': 'PT1H30M41S', 'published_at': '2021-09-27T21:37:26Z', 'tags': ['agi', 'ai', 'ai podcast', 'artificial intelligence', 'artificial intelligence podcast', 'education', 'jo boaler', 'learning', 'lex ai', 'lex fridman', 'lex jre', 'lex mit', 'lex podcast', 'math', 'mathematics', 'maths', 'mit ai', 'stanford', 'youcubed', 'математика'], 'timestamps': {'0:00': '- Introduction', '0:23': '- What is beautiful about mathematics?', '9:12': '- How difficult should math really be?', '17:31': '- Students giving up on math', '28:52': '- Improving math education in schools', '38:49': '- Inspiring mathematical creativity', '56:35': '- youcubed', '1:00:55': '- Best methods for studying math', '1:21:29': '- Advice for young people'}, 'title': 'Jo Boaler: How to Learn Math | Lex Fridman Podcast #226', 'video_id': 'KZnGSVwIpeU'}\n"
     ]
    }
   ],
   "source": [
    "# Load the JSON file\n",
    "with open('LexFridman_videos.json', 'r') as file:\n",
    "    data = json.load(file)\n",
    "\n",
    "print(f\"Type of data: {type(data)}\")\n",
    "print(f\"Number of videos: {len(data)}\")\n",
    "print(f\"Fields of each video: {data[random.choice(list(data.keys()))].keys()}\")\n",
    "print(f\"Sample of video: \\n{data[random.choice(list(data.keys()))]}\")"
   ]
  },
  {
   "cell_type": "markdown",
   "metadata": {},
   "source": [
    "We are interested only in the videos from the Lex Fridman Podcast."
   ]
  },
  {
   "cell_type": "code",
   "execution_count": 5,
   "metadata": {},
   "outputs": [
    {
     "name": "stdout",
     "output_type": "stream",
     "text": [
      "Number of Lex Fridman podcast videos: 436\n"
     ]
    }
   ],
   "source": [
    "# Filter videos with 'Lex Fridman Podcast' in the title\n",
    "podcast_videos = {}\n",
    "for video_id, video_data in data.items():\n",
    "    if 'Lex Fridman Podcast' in video_data['title']:\n",
    "        if '#' in video_data['title']:\n",
    "            podcast_videos[video_id] = video_data\n",
    "\n",
    "print(f\"Number of Lex Fridman podcast videos: {len(podcast_videos)}\")"
   ]
  },
  {
   "cell_type": "markdown",
   "metadata": {},
   "source": [
    "### CREATING AND POPULATING THE DATABASE"
   ]
  },
  {
   "cell_type": "markdown",
   "metadata": {},
   "source": [
    "First, we are going to choose one video and use it to create the database and the collection. Then we will proceed to insert the remaining videos."
   ]
  },
  {
   "cell_type": "code",
   "execution_count": 6,
   "metadata": {},
   "outputs": [
    {
     "name": "stdout",
     "output_type": "stream",
     "text": [
      "436\n",
      "Gi8LUnhP5yU\n",
      "435\n"
     ]
    },
    {
     "data": {
      "text/plain": [
       "{'description': '',\n",
       " 'duration': 'PT1H22M58S',\n",
       " 'published_at': '2018-04-19T14:11:52Z',\n",
       " 'tags': None,\n",
       " 'timestamps': None,\n",
       " 'title': 'Max Tegmark: Life 3.0 | Lex Fridman Podcast #1',\n",
       " 'video_id': 'Gi8LUnhP5yU'}"
      ]
     },
     "execution_count": 6,
     "metadata": {},
     "output_type": "execute_result"
    }
   ],
   "source": [
    "video_list = list(podcast_videos.keys())\n",
    "print(len(video_list))\n",
    "first_video = video_list.pop()\n",
    "print(first_video)\n",
    "print(len(video_list))\n",
    "podcast_videos[first_video]"
   ]
  },
  {
   "cell_type": "markdown",
   "metadata": {},
   "source": [
    "Let's define the name of the database and the collection that we are going to use."
   ]
  },
  {
   "cell_type": "code",
   "execution_count": 7,
   "metadata": {},
   "outputs": [],
   "source": [
    "db_name = 'lex_podcast'\n",
    "collection_name = 'LexFridmanPodcast'"
   ]
  },
  {
   "cell_type": "markdown",
   "metadata": {},
   "source": [
    "Here we are going to instantiate the database and the collection. Either create it or get it if it already exists."
   ]
  },
  {
   "cell_type": "code",
   "execution_count": 8,
   "metadata": {},
   "outputs": [
    {
     "name": "stdout",
     "output_type": "stream",
     "text": [
      "Database 'lex_podcast' already exists.\n",
      "Collection 'LexFridmanPodcast' already exists in database 'lex_podcast'.\n",
      "Database(MongoClient(host=['localhost:27017'], document_class=dict, tz_aware=False, connect=True, serverselectiontimeoutms=5000), 'lex_podcast')\n"
     ]
    }
   ],
   "source": [
    "db = mu.createDB_from_data(client, db_name, collection_name, data[first_video], custom_id=first_video)\n",
    "if db is None:\n",
    "    db = mu.get_database(client, db_name)\n",
    "print(db)"
   ]
  },
  {
   "cell_type": "code",
   "execution_count": 9,
   "metadata": {},
   "outputs": [
    {
     "name": "stdout",
     "output_type": "stream",
     "text": [
      "Databases in the client: ['admin', 'config', 'lex_podcast', 'local']\n",
      "Collections in the database 'lex_podcast': ['LexFridmanPodcast']\n",
      "Number of documents in the collection: 1\n",
      "All documents in the collection:\n",
      "{'_id': 'Gi8LUnhP5yU', 'description': '', 'duration': 'PT1H22M58S', 'published_at': '2018-04-19T14:11:52Z', 'tags': None, 'timestamps': None, 'title': 'Max Tegmark: Life 3.0 | Lex Fridman Podcast #1', 'video_id': 'Gi8LUnhP5yU'}\n"
     ]
    }
   ],
   "source": [
    "# Check if the database and the collection were created\n",
    "print(f\"Databases in the client: {client.list_database_names()}\")\n",
    "print(f\"Collections in the database '{db_name}': {db.list_collection_names()}\")\n",
    "\n",
    "collection = db[collection_name]\n",
    "all_documents = list(collection.find())\n",
    "print(f\"Number of documents in the collection: {len(all_documents)}\")\n",
    "if len(all_documents) <= 10:\n",
    "    print(\"All documents in the collection:\")\n",
    "    for doc in all_documents:\n",
    "        print(doc)"
   ]
  },
  {
   "cell_type": "markdown",
   "metadata": {},
   "source": [
    "Let's insert the remaining videos into the collection."
   ]
  },
  {
   "cell_type": "code",
   "execution_count": 11,
   "metadata": {},
   "outputs": [],
   "source": [
    "for video_id in video_list:\n",
    "    mu.insert_document(collection, document=podcast_videos[video_id], key=video_id)"
   ]
  },
  {
   "cell_type": "code",
   "execution_count": 12,
   "metadata": {},
   "outputs": [
    {
     "name": "stdout",
     "output_type": "stream",
     "text": [
      "Number of documents in the collection after insertion: 436\n"
     ]
    }
   ],
   "source": [
    "all_documents = list(collection.find())\n",
    "print(f\"Number of documents in the collection after insertion: {len(all_documents)}\")"
   ]
  },
  {
   "cell_type": "code",
   "execution_count": null,
   "metadata": {},
   "outputs": [],
   "source": []
  }
 ],
 "metadata": {
  "kernelspec": {
   "display_name": "lex_rag",
   "language": "python",
   "name": "python3"
  },
  "language_info": {
   "codemirror_mode": {
    "name": "ipython",
    "version": 3
   },
   "file_extension": ".py",
   "mimetype": "text/x-python",
   "name": "python",
   "nbconvert_exporter": "python",
   "pygments_lexer": "ipython3",
   "version": "3.9.6"
  }
 },
 "nbformat": 4,
 "nbformat_minor": 2
}
