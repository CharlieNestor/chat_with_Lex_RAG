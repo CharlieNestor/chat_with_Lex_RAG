{
 "cells": [
  {
   "cell_type": "markdown",
   "metadata": {},
   "source": [
    "# CREATING LEX VIDEOS DATABASE"
   ]
  },
  {
   "cell_type": "markdown",
   "metadata": {},
   "source": [
    "In this notebook, we will show how to create a database from a JSON file containing information about each video on the LexFridman YouTube channel.\n",
    "The JSON file is available in the data folder of this repository.\n",
    "In the code below, we show how to insert those video data into a MongoDB collection."
   ]
  },
  {
   "cell_type": "code",
   "execution_count": 1,
   "metadata": {},
   "outputs": [],
   "source": [
    "import json\n",
    "import random\n",
    "import mongo_utils as mu"
   ]
  },
  {
   "cell_type": "markdown",
   "metadata": {},
   "source": [
    "### MONGODB CONNECTION"
   ]
  },
  {
   "cell_type": "markdown",
   "metadata": {},
   "source": [
    "First, let's connect to the MongoDB client. We are going to use functions from the `mongo_utils.py` file."
   ]
  },
  {
   "cell_type": "code",
   "execution_count": 2,
   "metadata": {},
   "outputs": [],
   "source": [
    "client = mu.connect_to_mongodb()"
   ]
  },
  {
   "cell_type": "code",
   "execution_count": 3,
   "metadata": {},
   "outputs": [
    {
     "data": {
      "text/plain": [
       "True"
      ]
     },
     "execution_count": 3,
     "metadata": {},
     "output_type": "execute_result"
    }
   ],
   "source": [
    "mu.check_connection(client)"
   ]
  },
  {
   "cell_type": "markdown",
   "metadata": {},
   "source": [
    "### LOADING DATA FROM JSON"
   ]
  },
  {
   "cell_type": "markdown",
   "metadata": {},
   "source": [
    "Let's load the JSON file and print some information about the data."
   ]
  },
  {
   "cell_type": "markdown",
   "metadata": {},
   "source": [
    "If you are wondering how to get a JSON file like this, you can check the https://github.com/CharlieNestor/retrieve_video_info_YouTube_channel repository in my personal GitHub page. It contains a project whose goal is to download the videos information from a YouTube channel and store them either in JSON file or in a MongoDB collection."
   ]
  },
  {
   "cell_type": "code",
   "execution_count": 4,
   "metadata": {},
   "outputs": [
    {
     "name": "stdout",
     "output_type": "stream",
     "text": [
      "Type of data: <class 'dict'>\n",
      "Number of videos: 806\n",
      "Fields of each video: dict_keys(['description', 'duration', 'published_at', 'tags', 'timestamps', 'title', 'video_id'])\n",
      "Sample of video: \n",
      "{'description': \"The talks at the Deep Learning School on September 24/25, 2016 were amazing. I clipped out individual talks  from the full live streams and provided links to each below in case that's useful for people who want to watch specific talks several times (like I do). Please check out the official website (http://www.bayareadlschool.org) and full live streams below.\\n\\nHaving read, watched, and presented deep learning material over the past few years, I have to say that this is one of the best collection of introductory deep learning talks I've yet encountered. Here are links to the individual talks and the full live streams for the two days:\\n\\n1. Foundations of Deep Learning (Hugo Larochelle, Twitter) - https://youtu.be/zij_FTbJHsk\\n2. Deep Learning for Computer Vision (Andrej Karpathy, OpenAI) - https://youtu.be/u6aEYuemt0M\\n3. Deep Learning for Natural Language Processing (Richard Socher, Salesforce) - https://youtu.be/oGk1v1jQITw\\n4. TensorFlow Tutorial (Sherry Moore, Google Brain) - https://youtu.be/Ejec3ID_h0w\\n5. Foundations of Unsupervised Deep Learning (Ruslan Salakhutdinov, CMU) - https://youtu.be/rK6bchqeaN8\\n6. Nuts and Bolts of Applying Deep Learning (Andrew Ng) - https://youtu.be/F1ka6a13S9I\\n7. Deep Reinforcement Learning (John Schulman, OpenAI) - https://youtu.be/PtAIh9KSnjo\\n8. Theano Tutorial (Pascal Lamblin, MILA) - https://youtu.be/OU8I1oJ9HhI\\n9. Deep Learning for Speech Recognition (Adam Coates, Baidu) - https://youtu.be/g-sndkf7mCs\\n10. Torch Tutorial (Alex Wiltschko, Twitter) - https://youtu.be/L1sHcj3qDNc\\n11. Sequence to Sequence Deep Learning (Quoc Le, Google) - https://youtu.be/G5RY_SUJih4\\n12. Foundations and Challenges of Deep Learning (Yoshua Bengio) - https://youtu.be/11rsu_WwZTc\\n\\nFull Day Live Streams:\\nDay 1: https://youtu.be/eyovmAtoUx0\\nDay 2: https://youtu.be/9dXiAecyJrY\\n\\nGo to http://www.bayareadlschool.org for more information on the event, speaker bios, slides, etc. Huge thanks to the organizers (Shubho Sengupta et al) for making this event happen.\", 'duration': 'PT1H24M44S', 'published_at': '2016-09-27T17:47:35Z', 'tags': ['deep learning'], 'timestamps': None, 'title': 'Foundations of Unsupervised Deep Learning (Ruslan Salakhutdinov, CMU)', 'video_id': 'rK6bchqeaN8'}\n"
     ]
    }
   ],
   "source": [
    "# Load the JSON file\n",
    "with open('LexFridman_videos.json', 'r') as file:\n",
    "    data = json.load(file)\n",
    "\n",
    "print(f\"Type of data: {type(data)}\")\n",
    "print(f\"Number of videos: {len(data)}\")\n",
    "print(f\"Fields of each video: {data[random.choice(list(data.keys()))].keys()}\")\n",
    "print(f\"Sample of video: \\n{data[random.choice(list(data.keys()))]}\")"
   ]
  },
  {
   "cell_type": "markdown",
   "metadata": {},
   "source": [
    "We are interested only in the videos from the Lex Fridman Podcast."
   ]
  },
  {
   "cell_type": "code",
   "execution_count": 5,
   "metadata": {},
   "outputs": [
    {
     "name": "stdout",
     "output_type": "stream",
     "text": [
      "Number of Lex Fridman podcast videos: 436\n"
     ]
    }
   ],
   "source": [
    "# Filter videos with 'Lex Fridman Podcast' in the title\n",
    "podcast_videos = {}\n",
    "for video_id, video_data in data.items():\n",
    "    if 'Lex Fridman Podcast' in video_data['title']:\n",
    "        if '#' in video_data['title']:\n",
    "            podcast_videos[video_id] = video_data\n",
    "\n",
    "print(f\"Number of Lex Fridman podcast videos: {len(podcast_videos)}\")"
   ]
  },
  {
   "cell_type": "markdown",
   "metadata": {},
   "source": [
    "The field video_id will be one of the main keys in this database and in future works, hence we need to make sure that it is present in all the documents."
   ]
  },
  {
   "cell_type": "code",
   "execution_count": 6,
   "metadata": {},
   "outputs": [
    {
     "name": "stdout",
     "output_type": "stream",
     "text": [
      "J7aiEwp1x9k\n",
      "Craig Jones: Jiu Jitsu, $2 Million Prize, CJI, ADCC, Ukraine & Trolling | Lex Fridman Podcast #439\n",
      "dict_keys(['title', 'published_at', 'description', 'duration', 'tags', 'timestamps'])\n",
      "Kbk9BiPhm7o\n",
      "Elon Musk: Neuralink and the Future of Humanity | Lex Fridman Podcast #438\n",
      "dict_keys(['description', 'duration', 'published_at', 'tags', 'timestamps', 'title'])\n",
      "TXabC2Ave74\n",
      "Neil Adams: Judo, Olympics, Winning, Losing, and the Champion Mindset | Lex Fridman Podcast #427\n",
      "dict_keys(['description', 'duration', 'published_at', 'tags', 'timestamps', 'title'])\n",
      "iAlwZyRUOVM\n",
      "Kimbal Musk: The Art of Cooking, Tesla, SpaceX, Zip2, and Family | Lex Fridman Podcast #417\n",
      "dict_keys(['description', 'duration', 'published_at', 'tags', 'timestamps', 'title'])\n",
      "5t1vTLU7s40\n",
      "Yann Lecun: Meta AI, Open Source, Limits of LLMs, AGI & the Future of AI | Lex Fridman Podcast #416\n",
      "dict_keys(['description', 'duration', 'published_at', 'tags', 'timestamps', 'title'])\n",
      "qa-wl8_wpZA\n",
      "Serhii Plokhy: History of Ukraine, Russia, Soviet Union, KGB, Nazis & War | Lex Fridman Podcast #415\n",
      "dict_keys(['description', 'duration', 'published_at', 'tags', 'timestamps', 'title'])\n",
      "zMYvGf7BA9o\n",
      "Matthew Cox: FBI Most Wanted Con Man - $55 Million in Bank Fraud | Lex Fridman Podcast #409\n",
      "dict_keys(['description', 'duration', 'published_at', 'tags', 'timestamps', 'title'])\n",
      "9qfwPv7clEw\n",
      "Tal Wilkenfeld: Music, Guitar, Bass, Jeff Beck, Prince, and Leonard Cohen | Lex Fridman Podcast #408\n",
      "dict_keys(['description', 'duration', 'published_at', 'tags', 'timestamps', 'title'])\n",
      "CVx9IB_U9X4\n",
      "Teddy Atlas: Mike Tyson, Cus D'Amato, Boxing, Loyalty, Fear & Greatness | Lex Fridman Podcast #406\n",
      "dict_keys(['description', 'duration', 'published_at', 'tags', 'timestamps', 'title'])\n",
      "DcWqzZ3I2cY\n",
      "Jeff Bezos: Amazon and Blue Origin | Lex Fridman Podcast #405\n",
      "dict_keys(['description', 'duration', 'published_at', 'tags', 'timestamps', 'title'])\n",
      "VPaOy3G1-2A\n",
      "Lisa Randall: Dark Matter, Theoretical Physics, and Extinction Events | Lex Fridman Podcast #403\n",
      "dict_keys(['description', 'duration', 'published_at', 'tags', 'timestamps', 'title'])\n",
      "co_MeKSnyAo\n",
      "Jared Kushner: Israel, Palestine, Hamas, Gaza, Iran, and the Middle East | Lex Fridman Podcast #399\n",
      "dict_keys(['description', 'duration', 'published_at', 'tags', 'timestamps', 'title'])\n",
      "buarAx_u2qg\n",
      "Greg Lukianoff: Cancel Culture, Deplatforming, Censorship & Free Speech | Lex Fridman Podcast #397\n",
      "dict_keys(['description', 'duration', 'published_at', 'tags', 'timestamps', 'title'])\n",
      "aGOV5R7M1Js\n",
      "Walter Isaacson: Elon Musk, Steve Jobs, Einstein, Da Vinci & Ben Franklin | Lex Fridman Podcast #395\n",
      "dict_keys(['description', 'duration', 'published_at', 'tags', 'timestamps', 'title'])\n",
      "XbPHojL_61U\n",
      "Neri Oxman: Biology, Art, and Science of Design & Engineering with Nature | Lex Fridman Podcast #394\n",
      "dict_keys(['description', 'duration', 'published_at', 'tags', 'timestamps', 'title'])\n",
      "eTBAxD6lt2g\n",
      "Andrew Huberman: Relationships, Drama, Betrayal, Sex, and Love | Lex Fridman Podcast #393\n",
      "dict_keys(['description', 'duration', 'published_at', 'tags', 'timestamps', 'title'])\n",
      "e8qJsk1j2zE\n",
      "Joscha Bach: Life, Intelligence, Consciousness, AI & the Future of Humans | Lex Fridman Podcast #392\n",
      "dict_keys(['description', 'duration', 'published_at', 'tags', 'timestamps', 'title'])\n",
      "34wA_bdG6QQ\n",
      "Mohammed El-Kurd: Palestine | Lex Fridman Podcast #391\n",
      "dict_keys(['description', 'duration', 'published_at', 'tags', 'timestamps', 'title'])\n",
      "NPtBkw5uD-0\n",
      "Robert F. Kennedy Jr: CIA, Power, Corruption, War, Freedom, and Meaning | Lex Fridman Podcast #388\n",
      "dict_keys(['description', 'duration', 'published_at', 'tags', 'timestamps', 'title'])\n",
      "dNrTrx42DGQ\n",
      "George Hotz: Tiny Corp, Twitter, AI Safety, Self-Driving, GPT, AGI & God | Lex Fridman Podcast #387\n",
      "dict_keys(['description', 'duration', 'published_at', 'tags', 'timestamps', 'title'])\n",
      "OgIo36F6Fsg\n",
      "Simone Giertz: Queen of Sh*tty Robots, Innovative Engineering, and Design | Lex Fridman Podcast #372\n",
      "dict_keys(['description', 'duration', 'published_at', 'tags', 'timestamps', 'title'])\n",
      "rKnoNfajUgM\n",
      "Daniel Negreanu: Poker | Lex Fridman Podcast #324\n",
      "dict_keys(['description', 'duration', 'published_at', 'tags', 'timestamps', 'title'])\n",
      "xewD1apJNhw\n",
      "Will Sasso: Comedy, MADtv, AI, Friendship, Madness, and Pro Wrestling | Lex Fridman Podcast #323\n",
      "dict_keys(['description', 'duration', 'published_at', 'tags', 'timestamps', 'title'])\n",
      "Bo8MY4JpiXE\n",
      "François Chollet: Keras, Deep Learning, and the Progress of AI | Lex Fridman Podcast #38\n",
      "dict_keys(['description', 'duration', 'published_at', 'tags', 'timestamps', 'title'])\n"
     ]
    }
   ],
   "source": [
    "for key, value in podcast_videos.items():\n",
    "    if 'video_id' not in value:\n",
    "        print(key)\n",
    "        print(value['title'])\n",
    "        print(value.keys())\n",
    "        podcast_videos[key]['video_id'] = key"
   ]
  },
  {
   "cell_type": "markdown",
   "metadata": {},
   "source": [
    "### CREATING AND POPULATING THE DATABASE"
   ]
  },
  {
   "cell_type": "markdown",
   "metadata": {},
   "source": [
    "First, we are going to choose one video and use it to create the database and the collection. Then we will proceed to insert the remaining videos."
   ]
  },
  {
   "cell_type": "code",
   "execution_count": 7,
   "metadata": {},
   "outputs": [
    {
     "name": "stdout",
     "output_type": "stream",
     "text": [
      "436\n",
      "Gi8LUnhP5yU\n",
      "435\n"
     ]
    },
    {
     "data": {
      "text/plain": [
       "{'description': '',\n",
       " 'duration': 'PT1H22M58S',\n",
       " 'published_at': '2018-04-19T14:11:52Z',\n",
       " 'tags': None,\n",
       " 'timestamps': None,\n",
       " 'title': 'Max Tegmark: Life 3.0 | Lex Fridman Podcast #1',\n",
       " 'video_id': 'Gi8LUnhP5yU'}"
      ]
     },
     "execution_count": 7,
     "metadata": {},
     "output_type": "execute_result"
    }
   ],
   "source": [
    "video_list = list(podcast_videos.keys())\n",
    "print(len(video_list))\n",
    "first_video = video_list.pop()\n",
    "print(first_video)\n",
    "print(len(video_list))\n",
    "podcast_videos[first_video]"
   ]
  },
  {
   "cell_type": "markdown",
   "metadata": {},
   "source": [
    "Let's define the name of the database and the collection that we are going to use."
   ]
  },
  {
   "cell_type": "code",
   "execution_count": 8,
   "metadata": {},
   "outputs": [],
   "source": [
    "db_name = 'lex_podcast'\n",
    "collection_name = 'LexFridmanPodcast'"
   ]
  },
  {
   "cell_type": "markdown",
   "metadata": {},
   "source": [
    "Here we are going to instantiate the database and the collection. Either create it or get it if it already exists."
   ]
  },
  {
   "cell_type": "code",
   "execution_count": 9,
   "metadata": {},
   "outputs": [
    {
     "name": "stdout",
     "output_type": "stream",
     "text": [
      "Database 'lex_podcast' already exists.\n",
      "Collection 'LexFridmanPodcast' already exists in database 'lex_podcast'.\n",
      "Database(MongoClient(host=['localhost:27017'], document_class=dict, tz_aware=False, connect=True, serverselectiontimeoutms=5000), 'lex_podcast')\n"
     ]
    }
   ],
   "source": [
    "db = mu.createDB_from_data(client, db_name, collection_name, data[first_video], custom_id=first_video)\n",
    "if db is None:\n",
    "    db = mu.get_database(client, db_name)\n",
    "print(db)"
   ]
  },
  {
   "cell_type": "code",
   "execution_count": 10,
   "metadata": {},
   "outputs": [
    {
     "name": "stdout",
     "output_type": "stream",
     "text": [
      "Databases in the client: ['admin', 'config', 'lex_podcast', 'local']\n",
      "Collections in the database 'lex_podcast': ['LexFridmanPodcast']\n",
      "Number of documents in the collection: 1\n",
      "All documents in the collection:\n",
      "{'_id': 'Gi8LUnhP5yU', 'description': '', 'duration': 'PT1H22M58S', 'published_at': '2018-04-19T14:11:52Z', 'tags': None, 'timestamps': None, 'title': 'Max Tegmark: Life 3.0 | Lex Fridman Podcast #1', 'video_id': 'Gi8LUnhP5yU'}\n"
     ]
    }
   ],
   "source": [
    "# Check if the database and the collection were created\n",
    "print(f\"Databases in the client: {client.list_database_names()}\")\n",
    "print(f\"Collections in the database '{db_name}': {db.list_collection_names()}\")\n",
    "\n",
    "collection = db[collection_name]\n",
    "all_documents = list(collection.find())\n",
    "print(f\"Number of documents in the collection: {len(all_documents)}\")\n",
    "if len(all_documents) <= 10:\n",
    "    print(\"All documents in the collection:\")\n",
    "    for doc in all_documents:\n",
    "        print(doc)"
   ]
  },
  {
   "cell_type": "markdown",
   "metadata": {},
   "source": [
    "Let's insert the remaining videos into the collection."
   ]
  },
  {
   "cell_type": "code",
   "execution_count": 11,
   "metadata": {},
   "outputs": [],
   "source": [
    "for video_id in video_list:\n",
    "    mu.insert_document(collection, document=podcast_videos[video_id], key=video_id)"
   ]
  },
  {
   "cell_type": "code",
   "execution_count": 12,
   "metadata": {},
   "outputs": [
    {
     "name": "stdout",
     "output_type": "stream",
     "text": [
      "Number of documents in the collection after insertion: 436\n"
     ]
    }
   ],
   "source": [
    "all_documents = list(collection.find())\n",
    "print(f\"Number of documents in the collection after insertion: {len(all_documents)}\")"
   ]
  },
  {
   "cell_type": "code",
   "execution_count": null,
   "metadata": {},
   "outputs": [],
   "source": []
  }
 ],
 "metadata": {
  "kernelspec": {
   "display_name": "lex_rag",
   "language": "python",
   "name": "python3"
  },
  "language_info": {
   "codemirror_mode": {
    "name": "ipython",
    "version": 3
   },
   "file_extension": ".py",
   "mimetype": "text/x-python",
   "name": "python",
   "nbconvert_exporter": "python",
   "pygments_lexer": "ipython3",
   "version": "3.9.6"
  }
 },
 "nbformat": 4,
 "nbformat_minor": 2
}
